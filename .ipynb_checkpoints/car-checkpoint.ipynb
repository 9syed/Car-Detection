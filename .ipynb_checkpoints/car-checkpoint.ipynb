{
 "cells": [
  {
   "cell_type": "code",
   "execution_count": 1,
   "id": "ad76b2a1-2731-438a-84c0-48a5b10d08a4",
   "metadata": {},
   "outputs": [],
   "source": [
    "import cv2"
   ]
  },
  {
   "cell_type": "code",
   "execution_count": 2,
   "id": "d4b3566a-78c9-4a05-877a-a153a1be5639",
   "metadata": {},
   "outputs": [],
   "source": [
    "car_classifier = cv2.CascadeClassifier('cars.xml')"
   ]
  },
  {
   "cell_type": "code",
   "execution_count": 3,
   "id": "b6208a5a-949d-4785-a8d9-37fca9bb14c6",
   "metadata": {},
   "outputs": [],
   "source": [
    "video = cv2.VideoCapture('car traffic 3.mp4')"
   ]
  },
  {
   "cell_type": "code",
   "execution_count": null,
   "id": "8a577083-9ab3-426b-9135-43a36e926328",
   "metadata": {},
   "outputs": [],
   "source": [
    "while True:\n",
    "    vid , frame = video.read()\n",
    "    \n",
    "    if vid ==  False:\n",
    "        break\n",
    "        \n",
    "    gray = cv2.cvtColor(frame, cv2.COLOR_BGR2GRAY)\n",
    "    car = car_classifier.detectMultiScale(gray, 1.1, 1)\n",
    "    \n",
    "    for (x, y, w, h) in car:\n",
    "        cv2.rectangle(frame, (x, y), (x+w, y+h), (80,80,255),3)\n",
    "        cv2.imshow('Car Detection', frame)\n",
    "        \n",
    "    if cv2.waitKey(1) & 0xFF == ord(\"q\"):\n",
    "        break\n",
    "\n",
    "video.release()\n",
    "cv2.destroyAllWindows()"
   ]
  },
  {
   "cell_type": "code",
   "execution_count": null,
   "id": "f1025dc3-ed05-4f39-a549-b1e4b39a5fa8",
   "metadata": {},
   "outputs": [],
   "source": []
  }
 ],
 "metadata": {
  "kernelspec": {
   "display_name": "Python 3 (ipykernel)",
   "language": "python",
   "name": "python3"
  },
  "language_info": {
   "codemirror_mode": {
    "name": "ipython",
    "version": 3
   },
   "file_extension": ".py",
   "mimetype": "text/x-python",
   "name": "python",
   "nbconvert_exporter": "python",
   "pygments_lexer": "ipython3",
   "version": "3.9.13"
  }
 },
 "nbformat": 4,
 "nbformat_minor": 5
}
